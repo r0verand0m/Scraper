{
 "cells": [
  {
   "cell_type": "code",
   "execution_count": 135,
   "metadata": {},
   "outputs": [],
   "source": [
    "import subprocess\n",
    "import sys\n",
    "\n",
    "reqs = subprocess.check_output([sys.executable, '-m', 'pip', 'freeze'])\n",
    "installed_packages = [r.decode().split('==')[0] for r in reqs.split()]"
   ]
  },
  {
   "cell_type": "code",
   "execution_count": 139,
   "metadata": {},
   "outputs": [
    {
     "name": "stdout",
     "output_type": "stream",
     "text": [
      "Selenium already installed.\n",
      "Pandas already installed.\n",
      "BeautifulSoup4 already installed.\n"
     ]
    }
   ],
   "source": [
    "if 'selenium' not in installed_packages:\n",
    "    !pip install -U selenium\n",
    "else: print('Selenium already installed.')\n",
    "    \n",
    "if 'pandas' not in installed_packages:\n",
    "    !pip install -U pandas\n",
    "else: print('Pandas already installed.')\n",
    "\n",
    "if 'bs4' not in installed_packages:\n",
    "    !pip install -U bs4\n",
    "else: print('BeautifulSoup4 already installed.')"
   ]
  },
  {
   "cell_type": "code",
   "execution_count": 117,
   "metadata": {},
   "outputs": [],
   "source": [
    "from selenium import webdriver\n",
    "from selenium.webdriver.support.ui import WebDriverWait\n",
    "from selenium.webdriver.support import expected_conditions as EC\n",
    "from selenium.webdriver.common.by import By\n",
    "from selenium.common.exceptions import TimeoutException\n",
    "\n",
    "import time\n",
    "\n",
    "import re\n",
    "\n",
    "import pandas as pd\n",
    "\n",
    "from bs4 import BeautifulSoup"
   ]
  },
  {
   "cell_type": "code",
   "execution_count": 118,
   "metadata": {},
   "outputs": [],
   "source": [
    "options = webdriver.ChromeOptions()\n",
    "options.add_argument('--ignore-certificate-errors')\n",
    "options.add_argument('--incognito')\n",
    "options.add_argument('--headless')\n",
    "\n",
    "driver = webdriver.Chrome(options = options)"
   ]
  },
  {
   "cell_type": "code",
   "execution_count": 119,
   "metadata": {},
   "outputs": [],
   "source": [
    "driver.get('https://www.renodepot.com/webapp/wcs/stores/servlet/CategorySearchDisplay?pageSize=infinite&catalogId=10551&top=Y&urlLangId=-1&categoryId=32504&langId=-1&storeId=10701&productCategory=14745&page=1')\n",
    "driver.refresh()"
   ]
  },
  {
   "cell_type": "code",
   "execution_count": 120,
   "metadata": {},
   "outputs": [],
   "source": [
    "driver.find_element_by_id(\"department\").click()\n",
    "# Probably needs a pause here to work properly"
   ]
  },
  {
   "cell_type": "code",
   "execution_count": 121,
   "metadata": {},
   "outputs": [],
   "source": [
    "SCROLL_PAUSE_TIME = 2\n",
    "\n",
    "# Get scroll height\n",
    "last_height = driver.execute_script(\"return document.body.scrollHeight\")\n",
    "\n",
    "while True:\n",
    "    # Scroll down to bottom\n",
    "    driver.execute_script(\"window.scrollTo(0, document.body.scrollHeight);\")\n",
    "\n",
    "    # Wait to load page\n",
    "    time.sleep(SCROLL_PAUSE_TIME)\n",
    "\n",
    "    # Calculate new scroll height and compare with last scroll height\n",
    "    new_height = driver.execute_script(\"return document.body.scrollHeight\")\n",
    "    if new_height == last_height:\n",
    "        break\n",
    "    last_height = new_height"
   ]
  },
  {
   "cell_type": "code",
   "execution_count": 122,
   "metadata": {},
   "outputs": [],
   "source": [
    "page_source = driver.page_source"
   ]
  },
  {
   "cell_type": "code",
   "execution_count": 123,
   "metadata": {},
   "outputs": [],
   "source": [
    "soup = BeautifulSoup(page_source, 'lxml')"
   ]
  },
  {
   "cell_type": "code",
   "execution_count": 124,
   "metadata": {},
   "outputs": [],
   "source": [
    "products = soup.find_all('a', class_ = 'product_box')\n",
    "make = []\n",
    "makeTool = []\n",
    "deltaPrice = []\n",
    "normPrice = []\n",
    "salePrice = []\n",
    "productURL = []\n",
    "\n",
    "for product in products:\n",
    "    make.append(product.find('div', class_ = 'product_manufacturer').get_text().strip())\n",
    "    makeTool.append(product.find('div', class_ = 'product_name').get_text().strip())\n",
    "    salePrice.append(product.find('span', class_ = 'integer').get_text().strip())\n",
    "    productURL.append(product.get('href'))  \n",
    "    try:\n",
    "        deltaPrice.append(product.find('div', class_ = 'rebate').get_text().strip())\n",
    "        normPrice.append(product.find('span', class_ = 'linethrough').get_text().strip())\n",
    "    except:\n",
    "        deltaPrice.append('0')\n",
    "        normPrice.append(product.find('span', class_ = 'integer').get_text().strip())\n",
    "        continue\n",
    "        \n",
    "     "
   ]
  },
  {
   "cell_type": "code",
   "execution_count": 125,
   "metadata": {},
   "outputs": [],
   "source": [
    "product_df = pd.DataFrame(columns=['Make', 'Tool_Type', 'Regular_Price', 'Sale_Price', 'Rebate', 'Product_URL'])\n",
    "\n",
    "product_df['Make'] = make\n",
    "product_df['Tool_Type'] = makeTool\n",
    "product_df['Regular_Price'] = normPrice\n",
    "product_df['Sale_Price'] = salePrice\n",
    "product_df['Rebate'] = deltaPrice\n",
    "product_df['Product_URL'] = productURL"
   ]
  },
  {
   "cell_type": "code",
   "execution_count": 128,
   "metadata": {},
   "outputs": [],
   "source": [
    "product_df['Regular_Price'] = product_df['Regular_Price'].str.replace(r'\\$', '')\n",
    "product_df['Rebate'] = product_df['Rebate'].str.replace(r'Save \\$', '')\n",
    "\n",
    "product_df['Regular_Price'] = product_df['Regular_Price'].str.replace(r',', '')\n",
    "product_df['Rebate'] = product_df['Rebate'].str.replace(r',', '')\n",
    "product_df['Sale_Price'] = product_df['Sale_Price'].str.replace(r',', '')"
   ]
  },
  {
   "cell_type": "code",
   "execution_count": 129,
   "metadata": {},
   "outputs": [],
   "source": [
    "product_df['Rebate'] = pd.to_numeric(product_df['Rebate'])\n",
    "product_df['Regular_Price'] = pd.to_numeric(product_df['Regular_Price'])\n",
    "product_df['Sale_Price'] = pd.to_numeric(product_df['Sale_Price'])"
   ]
  },
  {
   "cell_type": "code",
   "execution_count": 130,
   "metadata": {},
   "outputs": [],
   "source": [
    "product_df['pctRebate'] = (product_df['Rebate'] / product_df['Regular_Price'])*100\n",
    "product_df = product_df.round({'pctRebate': 0})"
   ]
  },
  {
   "cell_type": "code",
   "execution_count": 131,
   "metadata": {},
   "outputs": [],
   "source": [
    "product_df = product_df.sort_values(['pctRebate'], ascending = False)"
   ]
  },
  {
   "cell_type": "code",
   "execution_count": 133,
   "metadata": {},
   "outputs": [
    {
     "data": {
      "text/html": [
       "<div>\n",
       "<style scoped>\n",
       "    .dataframe tbody tr th:only-of-type {\n",
       "        vertical-align: middle;\n",
       "    }\n",
       "\n",
       "    .dataframe tbody tr th {\n",
       "        vertical-align: top;\n",
       "    }\n",
       "\n",
       "    .dataframe thead th {\n",
       "        text-align: right;\n",
       "    }\n",
       "</style>\n",
       "<table border=\"1\" class=\"dataframe\">\n",
       "  <thead>\n",
       "    <tr style=\"text-align: right;\">\n",
       "      <th></th>\n",
       "      <th>Make</th>\n",
       "      <th>Tool_Type</th>\n",
       "      <th>Regular_Price</th>\n",
       "      <th>Sale_Price</th>\n",
       "      <th>Rebate</th>\n",
       "      <th>Product_URL</th>\n",
       "      <th>pctRebate</th>\n",
       "    </tr>\n",
       "  </thead>\n",
       "  <tbody>\n",
       "    <tr>\n",
       "      <th>0</th>\n",
       "      <td>METABO HPT</td>\n",
       "      <td>Pneumatic Stripe Brad Nailer - 5/8\"-2\"</td>\n",
       "      <td>179.0</td>\n",
       "      <td>89</td>\n",
       "      <td>90.0</td>\n",
       "      <td>https://www.renodepot.com/en/hitachi-pneumatic...</td>\n",
       "      <td>50.0</td>\n",
       "    </tr>\n",
       "    <tr>\n",
       "      <th>1</th>\n",
       "      <td>MAKITA</td>\n",
       "      <td>Set of 2 Cordless Tools 18V</td>\n",
       "      <td>319.0</td>\n",
       "      <td>189</td>\n",
       "      <td>130.0</td>\n",
       "      <td>https://www.renodepot.com/en/set-of-2-cordless...</td>\n",
       "      <td>41.0</td>\n",
       "    </tr>\n",
       "    <tr>\n",
       "      <th>98</th>\n",
       "      <td>CRAFTSMAN</td>\n",
       "      <td>Oil-Free Compressor - 6 Gallons - 150 PSI - Re...</td>\n",
       "      <td>249.0</td>\n",
       "      <td>149</td>\n",
       "      <td>100.0</td>\n",
       "      <td>https://www.renodepot.com/en/oil-free-compress...</td>\n",
       "      <td>40.0</td>\n",
       "    </tr>\n",
       "    <tr>\n",
       "      <th>99</th>\n",
       "      <td>DEWALT</td>\n",
       "      <td>Jigsaw - 20 V</td>\n",
       "      <td>229.0</td>\n",
       "      <td>139</td>\n",
       "      <td>90.0</td>\n",
       "      <td>https://www.renodepot.com/en/20-v-jigsaw-00275732</td>\n",
       "      <td>39.0</td>\n",
       "    </tr>\n",
       "    <tr>\n",
       "      <th>2</th>\n",
       "      <td>MAKITA</td>\n",
       "      <td>Set of 2 Cordless Tools - 18 V Lithium-ion</td>\n",
       "      <td>399.0</td>\n",
       "      <td>249</td>\n",
       "      <td>150.0</td>\n",
       "      <td>https://www.renodepot.com/en/set-of-2-cordless...</td>\n",
       "      <td>38.0</td>\n",
       "    </tr>\n",
       "    <tr>\n",
       "      <th>...</th>\n",
       "      <td>...</td>\n",
       "      <td>...</td>\n",
       "      <td>...</td>\n",
       "      <td>...</td>\n",
       "      <td>...</td>\n",
       "      <td>...</td>\n",
       "      <td>...</td>\n",
       "    </tr>\n",
       "    <tr>\n",
       "      <th>431</th>\n",
       "      <td>JOHNSON</td>\n",
       "      <td>CONTRACTOR PENCILS</td>\n",
       "      <td>3.0</td>\n",
       "      <td>3</td>\n",
       "      <td>0.0</td>\n",
       "      <td>https://www.renodepot.com/en/contractor-pencil...</td>\n",
       "      <td>0.0</td>\n",
       "    </tr>\n",
       "    <tr>\n",
       "      <th>430</th>\n",
       "      <td>SHOP-VAC</td>\n",
       "      <td>Vacuum Filter</td>\n",
       "      <td>9.0</td>\n",
       "      <td>9</td>\n",
       "      <td>0.0</td>\n",
       "      <td>https://www.renodepot.com/en/vacuum-filter-059...</td>\n",
       "      <td>0.0</td>\n",
       "    </tr>\n",
       "    <tr>\n",
       "      <th>429</th>\n",
       "      <td>FORESTO</td>\n",
       "      <td>Finishing Nails - 1 3/4'' - 18-Gauge Steel - B...</td>\n",
       "      <td>13.0</td>\n",
       "      <td>13</td>\n",
       "      <td>0.0</td>\n",
       "      <td>https://www.renodepot.com/en/foresto-finishing...</td>\n",
       "      <td>0.0</td>\n",
       "    </tr>\n",
       "    <tr>\n",
       "      <th>428</th>\n",
       "      <td>JOHNSON</td>\n",
       "      <td>Measuring tape</td>\n",
       "      <td>20.0</td>\n",
       "      <td>20</td>\n",
       "      <td>0.0</td>\n",
       "      <td>https://www.renodepot.com/en/measuring-tape-07...</td>\n",
       "      <td>0.0</td>\n",
       "    </tr>\n",
       "    <tr>\n",
       "      <th>815</th>\n",
       "      <td>FORESTO</td>\n",
       "      <td>Framing nails - 15° - 2 1/2'' - 5000/Box</td>\n",
       "      <td>95.0</td>\n",
       "      <td>95</td>\n",
       "      <td>0.0</td>\n",
       "      <td>https://www.renodepot.com/en/framing-nails-15-...</td>\n",
       "      <td>0.0</td>\n",
       "    </tr>\n",
       "  </tbody>\n",
       "</table>\n",
       "<p>816 rows × 7 columns</p>\n",
       "</div>"
      ],
      "text/plain": [
       "           Make                                          Tool_Type  \\\n",
       "0    METABO HPT             Pneumatic Stripe Brad Nailer - 5/8\"-2\"   \n",
       "1        MAKITA                        Set of 2 Cordless Tools 18V   \n",
       "98    CRAFTSMAN  Oil-Free Compressor - 6 Gallons - 150 PSI - Re...   \n",
       "99       DEWALT                                      Jigsaw - 20 V   \n",
       "2        MAKITA         Set of 2 Cordless Tools - 18 V Lithium-ion   \n",
       "..          ...                                                ...   \n",
       "431     JOHNSON                                 CONTRACTOR PENCILS   \n",
       "430    SHOP-VAC                                      Vacuum Filter   \n",
       "429     FORESTO  Finishing Nails - 1 3/4'' - 18-Gauge Steel - B...   \n",
       "428     JOHNSON                                     Measuring tape   \n",
       "815     FORESTO           Framing nails - 15° - 2 1/2'' - 5000/Box   \n",
       "\n",
       "     Regular_Price  Sale_Price  Rebate  \\\n",
       "0            179.0          89    90.0   \n",
       "1            319.0         189   130.0   \n",
       "98           249.0         149   100.0   \n",
       "99           229.0         139    90.0   \n",
       "2            399.0         249   150.0   \n",
       "..             ...         ...     ...   \n",
       "431            3.0           3     0.0   \n",
       "430            9.0           9     0.0   \n",
       "429           13.0          13     0.0   \n",
       "428           20.0          20     0.0   \n",
       "815           95.0          95     0.0   \n",
       "\n",
       "                                           Product_URL  pctRebate  \n",
       "0    https://www.renodepot.com/en/hitachi-pneumatic...       50.0  \n",
       "1    https://www.renodepot.com/en/set-of-2-cordless...       41.0  \n",
       "98   https://www.renodepot.com/en/oil-free-compress...       40.0  \n",
       "99   https://www.renodepot.com/en/20-v-jigsaw-00275732       39.0  \n",
       "2    https://www.renodepot.com/en/set-of-2-cordless...       38.0  \n",
       "..                                                 ...        ...  \n",
       "431  https://www.renodepot.com/en/contractor-pencil...        0.0  \n",
       "430  https://www.renodepot.com/en/vacuum-filter-059...        0.0  \n",
       "429  https://www.renodepot.com/en/foresto-finishing...        0.0  \n",
       "428  https://www.renodepot.com/en/measuring-tape-07...        0.0  \n",
       "815  https://www.renodepot.com/en/framing-nails-15-...        0.0  \n",
       "\n",
       "[816 rows x 7 columns]"
      ]
     },
     "execution_count": 133,
     "metadata": {},
     "output_type": "execute_result"
    }
   ],
   "source": [
    "product_df"
   ]
  }
 ],
 "metadata": {
  "kernelspec": {
   "display_name": "Python 3",
   "language": "python",
   "name": "python3"
  },
  "language_info": {
   "codemirror_mode": {
    "name": "ipython",
    "version": 3
   },
   "file_extension": ".py",
   "mimetype": "text/x-python",
   "name": "python",
   "nbconvert_exporter": "python",
   "pygments_lexer": "ipython3",
   "version": "3.7.7"
  }
 },
 "nbformat": 4,
 "nbformat_minor": 4
}
