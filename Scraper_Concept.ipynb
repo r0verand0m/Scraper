{
 "cells": [
  {
   "cell_type": "code",
   "execution_count": 1,
   "metadata": {},
   "outputs": [
    {
     "name": "stdout",
     "output_type": "stream",
     "text": [
      "Requirement already up-to-date: selenium in c:\\users\\alexi\\anaconda3\\lib\\site-packages (3.141.0)\n",
      "Requirement already satisfied, skipping upgrade: urllib3 in c:\\users\\alexi\\anaconda3\\lib\\site-packages (from selenium) (1.25.8)\n",
      "Requirement already up-to-date: pandas in c:\\users\\alexi\\anaconda3\\lib\\site-packages (1.0.3)\n",
      "Requirement already satisfied, skipping upgrade: python-dateutil>=2.6.1 in c:\\users\\alexi\\anaconda3\\lib\\site-packages (from pandas) (2.8.1)\n",
      "Requirement already satisfied, skipping upgrade: pytz>=2017.2 in c:\\users\\alexi\\anaconda3\\lib\\site-packages (from pandas) (2019.3)\n",
      "Requirement already satisfied, skipping upgrade: numpy>=1.13.3 in c:\\users\\alexi\\anaconda3\\lib\\site-packages (from pandas) (1.18.4)\n",
      "Requirement already satisfied, skipping upgrade: six>=1.5 in c:\\users\\alexi\\anaconda3\\lib\\site-packages (from python-dateutil>=2.6.1->pandas) (1.14.0)\n",
      "Requirement already up-to-date: bs4 in c:\\users\\alexi\\anaconda3\\lib\\site-packages (0.0.1)\n",
      "Requirement already satisfied, skipping upgrade: beautifulsoup4 in c:\\users\\alexi\\anaconda3\\lib\\site-packages (from bs4) (4.9.0)\n",
      "Requirement already satisfied, skipping upgrade: soupsieve>1.2 in c:\\users\\alexi\\anaconda3\\lib\\site-packages (from beautifulsoup4->bs4) (2.0)\n"
     ]
    }
   ],
   "source": [
    "!pip install -U selenium\n",
    "!pip install -U pandas\n",
    "!pip install -U bs4"
   ]
  },
  {
   "cell_type": "code",
   "execution_count": 2,
   "metadata": {},
   "outputs": [],
   "source": [
    "# Importing Packages:\n",
    "from selenium import webdriver\n",
    "from selenium.webdriver.support.ui import WebDriverWait\n",
    "from selenium.webdriver.support import expected_conditions as EC\n",
    "from selenium.webdriver.common.by import By\n",
    "from selenium.common.exceptions import TimeoutException\n",
    "\n",
    "import pandas as pd\n",
    "from bs4 import BeautifulSoup"
   ]
  },
  {
   "cell_type": "code",
   "execution_count": 3,
   "metadata": {},
   "outputs": [],
   "source": [
    "options = webdriver.ChromeOptions()\n",
    "options.add_argument('--ignore-certificate-errors')\n",
    "options.add_argument('--incognito')\n",
    "options.add_argument('--headless')\n",
    "\n",
    "driver = webdriver.Chrome(options = options)"
   ]
  },
  {
   "cell_type": "code",
   "execution_count": 4,
   "metadata": {},
   "outputs": [],
   "source": [
    "driver.get('https://www.renodepot.com/en/tools/1')\n",
    "driver.refresh()"
   ]
  },
  {
   "cell_type": "code",
   "execution_count": 5,
   "metadata": {},
   "outputs": [],
   "source": [
    "selectMTL = driver.find_element_by_id(\"department\")\n",
    "selectMTL.click();"
   ]
  },
  {
   "cell_type": "code",
   "execution_count": 6,
   "metadata": {},
   "outputs": [],
   "source": [
    "page_source = driver.page_source"
   ]
  },
  {
   "cell_type": "code",
   "execution_count": 7,
   "metadata": {},
   "outputs": [],
   "source": [
    "soup = BeautifulSoup(page_source, 'lxml')"
   ]
  },
  {
   "cell_type": "code",
   "execution_count": 33,
   "metadata": {},
   "outputs": [],
   "source": [
    "products = soup.find_all('div', class_ = 'product_desc')\n",
    "make = []\n",
    "makeTool = []\n",
    "deltaPrice = []\n",
    "normPrice = []\n",
    "salePrice = []\n",
    "\n",
    "for product in products:\n",
    "    make.append(product.find('div', class_ = 'product_manufacturer').get_text().strip())\n",
    "    makeTool.append(product.find('div', class_ = 'product_name').get_text().strip())\n",
    "    deltaPrice.append(product.find('div', class_ = 'rebate').get_text().strip())\n",
    "    normPrice.append(product.find('span', class_ = 'linethrough').get_text().strip())\n",
    "    salePrice.append(product.find('span', class_ = 'integer').get_text().strip())\n",
    "    "
   ]
  },
  {
   "cell_type": "code",
   "execution_count": 34,
   "metadata": {},
   "outputs": [],
   "source": [
    "product_df = pd.DataFrame(columns=['Make', 'Tool_Type', 'Regular_Price', 'Sale_Price', 'Rebate'])\n",
    "\n",
    "product_df['Make'] = make\n",
    "product_df['Tool_Type'] = makeTool\n",
    "product_df['Regular_Price'] = normPrice\n",
    "product_df['Sale_Price'] = salePrice\n",
    "product_df['Rebate'] = deltaPrice"
   ]
  },
  {
   "cell_type": "code",
   "execution_count": 35,
   "metadata": {},
   "outputs": [
    {
     "data": {
      "text/html": [
       "<div>\n",
       "<style scoped>\n",
       "    .dataframe tbody tr th:only-of-type {\n",
       "        vertical-align: middle;\n",
       "    }\n",
       "\n",
       "    .dataframe tbody tr th {\n",
       "        vertical-align: top;\n",
       "    }\n",
       "\n",
       "    .dataframe thead th {\n",
       "        text-align: right;\n",
       "    }\n",
       "</style>\n",
       "<table border=\"1\" class=\"dataframe\">\n",
       "  <thead>\n",
       "    <tr style=\"text-align: right;\">\n",
       "      <th></th>\n",
       "      <th>Make</th>\n",
       "      <th>Tool_Type</th>\n",
       "      <th>Regular_Price</th>\n",
       "      <th>Sale_Price</th>\n",
       "      <th>Rebate</th>\n",
       "    </tr>\n",
       "  </thead>\n",
       "  <tbody>\n",
       "    <tr>\n",
       "      <th>0</th>\n",
       "      <td>METABO HPT</td>\n",
       "      <td>Pneumatic Stripe Brad Nailer - 5/8\"-2\"</td>\n",
       "      <td>$179.00</td>\n",
       "      <td>89</td>\n",
       "      <td>Save $90.00</td>\n",
       "    </tr>\n",
       "    <tr>\n",
       "      <th>1</th>\n",
       "      <td>MAKITA</td>\n",
       "      <td>Set of 2 Cordless Tools 18V</td>\n",
       "      <td>$319.00</td>\n",
       "      <td>189</td>\n",
       "      <td>Save $130.00</td>\n",
       "    </tr>\n",
       "    <tr>\n",
       "      <th>2</th>\n",
       "      <td>MAKITA</td>\n",
       "      <td>Set of 2 Cordless Tools - 18 V Lithium-ion</td>\n",
       "      <td>$399.00</td>\n",
       "      <td>249</td>\n",
       "      <td>Save $150.00</td>\n",
       "    </tr>\n",
       "    <tr>\n",
       "      <th>3</th>\n",
       "      <td>BOSCH</td>\n",
       "      <td>Small Angle Grinder - 4 1/2\" - Set of 2</td>\n",
       "      <td>$149.00</td>\n",
       "      <td>99</td>\n",
       "      <td>Save $50.00</td>\n",
       "    </tr>\n",
       "    <tr>\n",
       "      <th>4</th>\n",
       "      <td>BOSCH</td>\n",
       "      <td>Laser Measuring Tool - 100 ft</td>\n",
       "      <td>$89.99</td>\n",
       "      <td>59</td>\n",
       "      <td>Save $30.00</td>\n",
       "    </tr>\n",
       "  </tbody>\n",
       "</table>\n",
       "</div>"
      ],
      "text/plain": [
       "         Make                                   Tool_Type Regular_Price  \\\n",
       "0  METABO HPT      Pneumatic Stripe Brad Nailer - 5/8\"-2\"       $179.00   \n",
       "1      MAKITA                 Set of 2 Cordless Tools 18V       $319.00   \n",
       "2      MAKITA  Set of 2 Cordless Tools - 18 V Lithium-ion       $399.00   \n",
       "3       BOSCH     Small Angle Grinder - 4 1/2\" - Set of 2       $149.00   \n",
       "4       BOSCH               Laser Measuring Tool - 100 ft        $89.99   \n",
       "\n",
       "  Sale_Price        Rebate  \n",
       "0         89   Save $90.00  \n",
       "1        189  Save $130.00  \n",
       "2        249  Save $150.00  \n",
       "3         99   Save $50.00  \n",
       "4         59   Save $30.00  "
      ]
     },
     "execution_count": 35,
     "metadata": {},
     "output_type": "execute_result"
    }
   ],
   "source": [
    "product_df.head()"
   ]
  },
  {
   "cell_type": "code",
   "execution_count": null,
   "metadata": {},
   "outputs": [],
   "source": []
  }
 ],
 "metadata": {
  "kernelspec": {
   "display_name": "Python 3",
   "language": "python",
   "name": "python3"
  },
  "language_info": {
   "codemirror_mode": {
    "name": "ipython",
    "version": 3
   },
   "file_extension": ".py",
   "mimetype": "text/x-python",
   "name": "python",
   "nbconvert_exporter": "python",
   "pygments_lexer": "ipython3",
   "version": "3.7.7"
  }
 },
 "nbformat": 4,
 "nbformat_minor": 4
}
